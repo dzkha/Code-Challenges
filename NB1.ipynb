{
  "nbformat": 4,
  "nbformat_minor": 0,
  "metadata": {
    "colab": {
      "name": "Untitled13.ipynb",
      "provenance": []
    },
    "kernelspec": {
      "name": "python3",
      "display_name": "Python 3"
    }
  },
  "cells": [
    {
      "cell_type": "code",
      "metadata": {
        "id": "krt8AXD9hO8Z",
        "colab_type": "code",
        "colab": {}
      },
      "source": [
        "create matrix/list initialized with 1s\n",
        "loop over every element of matrix\n",
        "  for every flea in matrix, randomly jump to adjacent square (subtract 1 from current and add 1 to adjacent), checking for corner and wall\n",
        "do this 50 times\n",
        "loop over every element of matrix to find occupied and unoccupied squares and find sum\n",
        "\n",
        "Do all of the above many times and find the average of the sums. this is monte carlo\n",
        "Errors reduce by a factor of 1/sqrt(N)"
      ],
      "execution_count": 0,
      "outputs": []
    },
    {
      "cell_type": "markdown",
      "metadata": {
        "id": "cuWewYfYiL1v",
        "colab_type": "text"
      },
      "source": [
        "A 30×30 grid of squares contains 900 fleas, initially one flea per square. When a bell is rung, each flea jumps to an adjacent square at random (usually 4 possibilities, except for fleas on the edge of the grid or at the corners).\n",
        "\n",
        "What is the expected number of unoccupied squares after 50 rings of the bell?"
      ]
    }
  ]
}